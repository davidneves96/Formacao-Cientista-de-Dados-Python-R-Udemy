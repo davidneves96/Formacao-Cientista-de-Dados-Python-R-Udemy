{
 "cells": [
  {
   "cell_type": "markdown",
   "id": "a5f59d5e",
   "metadata": {},
   "source": [
    "# Limpeza e Tratamento de Dados em Python\n",
    "### Seção 10 - 66 do curso Formação de Cientista de Dados com Python e R"
   ]
  },
  {
   "cell_type": "code",
   "execution_count": 80,
   "id": "132e3c2e",
   "metadata": {},
   "outputs": [
    {
     "data": {
      "text/plain": [
       "(14, 5)"
      ]
     },
     "execution_count": 80,
     "metadata": {},
     "output_type": "execute_result"
    }
   ],
   "source": [
    "import pandas as pd\n",
    "import seaborn as srn\n",
    "import statistics as sts\n",
    "\n",
    "dataset = pd.read_csv (\"C:\\\\Users\\\\david\\\\Google Drive\\\\Udemy\\\\Formação Cientista de Dados com Python e R\\\\10.Prática em Python\\\\dados\\\\tempo.csv\",  sep=\";\")\n",
    "\n",
    "dataset.head()\n",
    "dataset.shape"
   ]
  },
  {
   "cell_type": "code",
   "execution_count": 86,
   "id": "2d3e9db7",
   "metadata": {
    "scrolled": true
   },
   "outputs": [
    {
     "data": {
      "text/plain": [
       "Aparencia\n",
       "chuva      6\n",
       "nublado    3\n",
       "sol        5\n",
       "dtype: int64"
      ]
     },
     "execution_count": 86,
     "metadata": {},
     "output_type": "execute_result"
    }
   ],
   "source": [
    "#tratamento aparencia fora do domninio\n",
    "\n",
    "dataset.groupby(['Aparencia']).size()\n",
    "\n",
    "dataset.loc[dataset['Aparencia'] ==  'menos', 'Aparencia'] = \"chuva\"\n",
    "\n",
    "dataset.groupby(['Aparencia']).size()"
   ]
  },
  {
   "cell_type": "code",
   "execution_count": 82,
   "id": "a9095974",
   "metadata": {},
   "outputs": [
    {
     "data": {
      "text/plain": [
       "count    14.000000\n",
       "mean     73.678571\n",
       "std       6.556286\n",
       "min      64.000000\n",
       "25%      69.250000\n",
       "50%      72.750000\n",
       "75%      78.750000\n",
       "max      85.000000\n",
       "Name: Temperatura, dtype: float64"
      ]
     },
     "execution_count": 82,
     "metadata": {},
     "output_type": "execute_result"
    }
   ],
   "source": [
    "#tratando temperatura fora dominio\n",
    "dataset['Temperatura'].describe()\n",
    "\n",
    "dataset.loc[(dataset['Temperatura'] < -130) | (dataset['Temperatura'] > 130), 'Temperatura'] = sts.median(dataset['Temperatura'])\n",
    "\n",
    "dataset['Temperatura'].describe()\n"
   ]
  },
  {
   "cell_type": "code",
   "execution_count": 83,
   "id": "dd845364",
   "metadata": {},
   "outputs": [
    {
     "data": {
      "text/plain": [
       "count    13.000000\n",
       "mean     80.961538\n",
       "std       9.896257\n",
       "min      65.000000\n",
       "25%      70.000000\n",
       "50%      85.000000\n",
       "75%      90.000000\n",
       "max      95.000000\n",
       "Name: Umidade, dtype: float64"
      ]
     },
     "execution_count": 83,
     "metadata": {},
     "output_type": "execute_result"
    }
   ],
   "source": [
    "#tratando umidade fora do dominio\n",
    "dataset['Umidade'].describe()\n",
    "\n",
    "dataset.loc[(dataset['Umidade'] < 0) | (dataset['Umidade'] > 100), 'Umidade'] = sts.median(dataset['Umidade'])\n",
    "\n",
    "dataset['Umidade'].describe()"
   ]
  },
  {
   "cell_type": "code",
   "execution_count": 84,
   "id": "38c79bb4",
   "metadata": {},
   "outputs": [
    {
     "data": {
      "text/plain": [
       "Jogar\n",
       "nao    5\n",
       "sim    9\n",
       "dtype: int64"
      ]
     },
     "execution_count": 84,
     "metadata": {},
     "output_type": "execute_result"
    }
   ],
   "source": [
    "#tratando jogar fora do dominio (nada a tratar)\n",
    "dataset.groupby(['Jogar']).size()"
   ]
  },
  {
   "cell_type": "code",
   "execution_count": 85,
   "id": "a2bbc824",
   "metadata": {},
   "outputs": [
    {
     "data": {
      "text/plain": [
       "Aparencia      0\n",
       "Temperatura    0\n",
       "Umidade        0\n",
       "Vento          0\n",
       "Jogar          0\n",
       "dtype: int64"
      ]
     },
     "execution_count": 85,
     "metadata": {},
     "output_type": "execute_result"
    }
   ],
   "source": [
    "#Tratando dados NA\n",
    "dataset.isnull().sum()\n",
    "\n",
    "dataset['Umidade'].describe()\n",
    "\n",
    "dataset['Umidade'].fillna(sts.median(dataset['Umidade']), inplace=True)\n",
    "\n",
    "dataset.isnull().sum()\n",
    "\n",
    "dataset.groupby(['Vento']).size()\n",
    "\n",
    "dataset.loc[(dataset['Vento'].isnull()), 'Vento'] = 'FALSO'\n",
    " \n",
    "dataset.groupby(['Vento']).size()\n",
    "\n",
    "dataset.isnull().sum()"
   ]
  },
  {
   "cell_type": "code",
   "execution_count": null,
   "id": "d808f095",
   "metadata": {},
   "outputs": [],
   "source": []
  },
  {
   "cell_type": "code",
   "execution_count": null,
   "id": "b54cd7c2",
   "metadata": {},
   "outputs": [],
   "source": []
  }
 ],
 "metadata": {
  "kernelspec": {
   "display_name": "Python 3",
   "language": "python",
   "name": "python3"
  },
  "language_info": {
   "codemirror_mode": {
    "name": "ipython",
    "version": 3
   },
   "file_extension": ".py",
   "mimetype": "text/x-python",
   "name": "python",
   "nbconvert_exporter": "python",
   "pygments_lexer": "ipython3",
   "version": "3.8.8"
  }
 },
 "nbformat": 4,
 "nbformat_minor": 5
}
