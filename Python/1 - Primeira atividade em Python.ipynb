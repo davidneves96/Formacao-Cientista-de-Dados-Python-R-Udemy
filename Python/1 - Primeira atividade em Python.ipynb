{
 "cells": [
  {
   "cell_type": "markdown",
   "id": "f81aa839",
   "metadata": {},
   "source": [
    "# Primeira atividade em Python - Sessão 7.49"
   ]
  },
  {
   "cell_type": "markdown",
   "id": "abc6864c",
   "metadata": {},
   "source": [
    "1. Faça um programa que tenha uma função chamada amplitude. A função deve receber uma lista e imprimir a amplitude. Crie também um código para testar sua função:"
   ]
  },
  {
   "cell_type": "code",
   "execution_count": 91,
   "id": "532b1f79",
   "metadata": {},
   "outputs": [
    {
     "name": "stdout",
     "output_type": "stream",
     "text": [
      "Sua lista: [25, 26, 27, 28, 29, 30, 31, 32, 33, 34, 35, 36, 37, 38, 39, 40, 41, 42, 43, 44, 45, 46, 47, 48, 49, 50]\n",
      "A amplitude dessa lista é de: 25\n"
     ]
    }
   ],
   "source": [
    "def amplitude (n=1, m=10):\n",
    "    lst= list (range (n, m+1))\n",
    "    print (\"Sua lista:\", lst)\n",
    "    r = max(lst) - min(lst) # caso queira salvar o valor\n",
    "    print (\"A amplitude dessa lista é de:\", r) \n",
    "    #print (\"A amplitude dessa lista é de: \", max(lst)-min(lst)) \n",
    "    \n",
    "amplitude(25,50)"
   ]
  },
  {
   "cell_type": "markdown",
   "id": "b09e10b2",
   "metadata": {},
   "source": [
    "  2. Faça uma função que receba uma string e imprima esta string na forma vertical. Por exemplo, se receber python, deve imprimir\n",
    "  p\n",
    "  y\n",
    "  t\n",
    "  h\n",
    "  o\n",
    "  n\n",
    "  Dica: uma string do python funciona como uma lista!\n",
    "  Crie também um código para testar sua função."
   ]
  },
  {
   "cell_type": "code",
   "execution_count": 90,
   "id": "078704f7",
   "metadata": {},
   "outputs": [
    {
     "name": "stdout",
     "output_type": "stream",
     "text": [
      "p\n",
      "y\n",
      "t\n",
      "h\n",
      "o\n",
      "n\n",
      "\n",
      "O\n",
      "l\n",
      "á\n",
      " \n",
      "m\n",
      "u\n",
      "n\n",
      "d\n",
      "o\n",
      "\n"
     ]
    }
   ],
   "source": [
    "def texto (n = \"python\"):\n",
    "    for a in range (0, len(n)):\n",
    "        print (n[a])\n",
    "    print () #print para espaço de uma função para outra\n",
    "        \n",
    "texto()\n",
    "texto(\"Olá Mundo!\")"
   ]
  },
  {
   "cell_type": "markdown",
   "id": "651adf0f",
   "metadata": {},
   "source": [
    "3. Crie um programa que leia o peso de uma carga em números inteiros. Se o peso for até 10kg, informe que o valor será de R\\\\$ 50,00. Entre 11 e 20 kg, informe que o valor será de R\\\\$ 80. Se for maior que 20 informe que o transporte não é aceito. Teste vários pesos:"
   ]
  },
  {
   "cell_type": "code",
   "execution_count": 114,
   "id": "5295160a",
   "metadata": {},
   "outputs": [
    {
     "name": "stdout",
     "output_type": "stream",
     "text": [
      "Digite o valor da carga: 10\n",
      "O valor será de R$ 50,00\n"
     ]
    },
    {
     "data": {
      "text/plain": [
       "' \\nCargas para teste\\ncarga(5)\\ncarga(11)\\ncarga(15)\\ncarga(20) \\n'"
      ]
     },
     "execution_count": 114,
     "metadata": {},
     "output_type": "execute_result"
    }
   ],
   "source": [
    "#Preferi fazer um programa com uma function \n",
    "x = input (\"Digite o valor da carga: \")\n",
    "\n",
    "def carga (n):\n",
    "    if n <= 10:\n",
    "        print (\"O valor será de R$ 50,00\")\n",
    "    elif n > 10 and n <= 20:\n",
    "        print (\"O valor será de R$ 80,00\")\n",
    "    else:\n",
    "        print (\"O transporte não é aceito\")\n",
    "\n",
    "carga(int(x))\n",
    "\n",
    "#Cargas para teste:\n",
    "#carga(5)\n",
    "#carga(11)\n",
    "#carga(15)\n",
    "#carga(20)\n"
   ]
  },
  {
   "cell_type": "markdown",
   "id": "7c11048f",
   "metadata": {},
   "source": [
    "# "
   ]
  },
  {
   "cell_type": "code",
   "execution_count": null,
   "id": "629b1a10",
   "metadata": {},
   "outputs": [],
   "source": []
  }
 ],
 "metadata": {
  "kernelspec": {
   "display_name": "Python 3",
   "language": "python",
   "name": "python3"
  },
  "language_info": {
   "codemirror_mode": {
    "name": "ipython",
    "version": 3
   },
   "file_extension": ".py",
   "mimetype": "text/x-python",
   "name": "python",
   "nbconvert_exporter": "python",
   "pygments_lexer": "ipython3",
   "version": "3.8.8"
  }
 },
 "nbformat": 4,
 "nbformat_minor": 5
}
